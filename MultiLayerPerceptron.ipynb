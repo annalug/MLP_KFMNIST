{
 "cells": [
  {
   "cell_type": "markdown",
   "id": "f0c46fdf-0103-4124-90e8-d2622d47d3b4",
   "metadata": {},
   "source": [
    "# Neural Networks: Multilayer Perceptron (MLP) with PyTorch\n",
    "\n",
    "- Pytorch has a module called `nn` to help us build neural networks."
   ]
  },
  {
   "cell_type": "code",
   "execution_count": 1,
   "id": "1316124f-3c7a-4728-9c02-b069c1463d16",
   "metadata": {},
   "outputs": [],
   "source": [
    "# for better image plotting\n",
    "%matplotlib inline\n",
    "%config InlineBackend.figure_format = 'retina'\n",
    "\n",
    "import pandas as pd\n",
    "import numpy as np\n",
    "\n",
    "import torch\n",
    "from torchvision import datasets, transforms\n",
    "from torch import nn, optim\n",
    "from torch.autograd import Variable\n",
    "from torch.utils.data.sampler import SubsetRandomSampler\n",
    "import torch.nn.functional as F\n",
    "\n",
    "import matplotlib.pyplot as plt\n",
    "import seaborn as sns\n",
    "\n",
    "from collections import OrderedDict"
   ]
  },
  {
   "cell_type": "markdown",
   "id": "f0769153-7f31-4f67-a5cd-64d8ea933330",
   "metadata": {},
   "source": [
    "# Training the Neural Network\n",
    "- **loss function:** identify how our network is performing \n",
    "    - Mean squared error (MSE):\n",
    "\n",
    "$$\n",
    "\\large \\ell = \\frac{1}{2n}\\sum_i^n{\\left(y_i - \\hat{y}_i\\right)^2}\n",
    "$$\n",
    "\n",
    "\n",
    ">   $n$: number of training samples\n",
    ">\n",
    ">   $y_i$ real labels\n",
    ">\n",
    ">   $\\hat{y}_i$ estimated labels\n",
    "\n",
    "- The network make some adjustments in the weights to minimize the Loss\n",
    "- In order to find MIN(loss), we use _Gradient Descent_ \n",
    "- The gradient is the derivative vector "
   ]
  },
  {
   "cell_type": "markdown",
   "id": "c0df9abd-fbf6-4d53-87a2-a490e5114ee8",
   "metadata": {
    "tags": []
   },
   "source": [
    "## Autograd\n",
    "\n",
    "- Now, let's use the _loss_ in backpropagation\n",
    "- PyTorch has the module `autograd` that computes the gradientes\n",
    "    - `autograd` stores the operations performed on each tensor\n",
    "    - then passes it back calculating the gradients\n",
    "    - Just to be sure that pytorch is actually sroting the operations, it's important to set `requires_grad = True` in the tensor\n",
    "    - To do it so, we can call `requires_grad` or at any time write `x.requires_grad_(True)`\n",
    "\n",
    "- It's also possible to deactivate the gradients calling `torch.no_grad()`:\n",
    "- Also, we can turn it ON of OFF the storage of all gradients at the same time using `torch.set_grad_enabled(True|False)`.\n",
    "\n",
    "- The gradients are related to a variable like `z`, with `z.backward()`\n",
    "\n",
    "### Creating rando  numbers from a normal distribution with mean = `0` and variance = `1`:"
   ]
  },
  {
   "cell_type": "code",
   "execution_count": 29,
   "id": "38cffce9-56e8-4078-ab48-8953f61312d1",
   "metadata": {},
   "outputs": [
    {
     "name": "stdout",
     "output_type": "stream",
     "text": [
      "tensor([[ 1.3246,  0.6318],\n",
      "        [-0.9723, -0.1335]], requires_grad=True)\n"
     ]
    }
   ],
   "source": [
    "x = torch.randn(2,2, requires_grad=True)\n",
    "print(x)"
   ]
  },
  {
   "cell_type": "code",
   "execution_count": 30,
   "id": "7f973170-a9ae-475b-9ba9-574b14068b1d",
   "metadata": {},
   "outputs": [
    {
     "name": "stdout",
     "output_type": "stream",
     "text": [
      "tensor([[1.7547, 0.3992],\n",
      "        [0.9454, 0.0178]], grad_fn=<PowBackward0>)\n"
     ]
    }
   ],
   "source": [
    "y = x**2\n",
    "print(y)"
   ]
  },
  {
   "cell_type": "markdown",
   "id": "14f44aee-9187-48cc-9a6f-d63b72a31511",
   "metadata": {},
   "source": [
    "- PowBackward0: it says that a squared operation created `y`\n",
    "\n",
    "### The autograd module keeps track of these operations\n",
    "- and knows how to compute the gradient of each one\n",
    "- thus, it can compute the gradient for chain operations\n",
    "\n",
    "### Computing the mean:"
   ]
  },
  {
   "cell_type": "code",
   "execution_count": 31,
   "id": "46da23d5-975d-43e0-976f-3e9ec07c3f17",
   "metadata": {},
   "outputs": [
    {
     "name": "stdout",
     "output_type": "stream",
     "text": [
      "tensor(0.7793, grad_fn=<MeanBackward0>)\n"
     ]
    }
   ],
   "source": [
    "z = y.mean()\n",
    "print(z)"
   ]
  },
  {
   "cell_type": "code",
   "execution_count": 32,
   "id": "dd7d1f97-c69a-4c08-9737-9baf11ab01be",
   "metadata": {},
   "outputs": [
    {
     "name": "stdout",
     "output_type": "stream",
     "text": [
      "None\n",
      "None\n"
     ]
    },
    {
     "name": "stderr",
     "output_type": "stream",
     "text": [
      "<ipython-input-32-cd4c40187c02>:2: UserWarning: The .grad attribute of a Tensor that is not a leaf Tensor is being accessed. Its .grad attribute won't be populated during autograd.backward(). If you indeed want the gradient for a non-leaf Tensor, use .retain_grad() on the non-leaf Tensor. If you access the non-leaf Tensor by mistake, make sure you access the leaf Tensor instead. See github.com/pytorch/pytorch/pull/30531 for more information.\n",
      "  print(y.grad)\n"
     ]
    }
   ],
   "source": [
    "print(x.grad)\n",
    "print(y.grad)"
   ]
  },
  {
   "cell_type": "markdown",
   "id": "5e9d186a-0031-4180-b1ad-3c32a37a58d8",
   "metadata": {},
   "source": [
    "### The proper way of computing the gradient is by executing the `.backward` in `z`\n",
    "- This will compute the gradient of `z` related to `x`, like:\n",
    "\n",
    "$$\n",
    "\\frac{\\partial z}{\\partial x} = \\frac{\\partial}{\\partial x}\\left[\\frac{1}{n}\\sum_i^n x_i^2\\right] = \\frac{x}{2}\n",
    "$$"
   ]
  },
  {
   "cell_type": "code",
   "execution_count": 33,
   "id": "877f404e-b6a9-4f38-8a75-d5336cf68ff6",
   "metadata": {},
   "outputs": [
    {
     "name": "stdout",
     "output_type": "stream",
     "text": [
      "\u001b[mGradient:\u001b[31m tensor([[ 0.6623,  0.3159],\n",
      "        [-0.4862, -0.0667]])\n",
      "\u001b[mx / 2:\u001b[31m tensor([[ 0.6623,  0.3159],\n",
      "        [-0.4862, -0.0667]], grad_fn=<DivBackward0>)\n"
     ]
    }
   ],
   "source": [
    "z.backward()\n",
    "print('\\033[mGradient:\\033[31m', x.grad)\n",
    "print('\\033[mx / 2:\\033[31m', x/2)"
   ]
  },
  {
   "cell_type": "markdown",
   "id": "f6821d71-5b4a-45c8-8a1e-362de7829fcc",
   "metadata": {},
   "source": [
    "## Merging Loss and Autograd \n",
    "- When creating a network with pytorch, every parameter is initialized with `requires_grad = True`\n",
    "- That means that when we call `loss.backward()`, the gradients of each parameter are calculated\n",
    "- These gradients are used to update the weights during gradient descent\n",
    " \n",
    "### Using _backward pass_:"
   ]
  },
  {
   "cell_type": "code",
   "execution_count": 34,
   "id": "8e19aa0d-b009-425e-a950-7f04aa886722",
   "metadata": {},
   "outputs": [],
   "source": [
    "# feed-forward network\n",
    "model = nn.Sequential(nn.Linear(784, 128),\n",
    "                      nn.ReLU(),\n",
    "                      nn.Linear(128, 64),\n",
    "                      nn.ReLU(),\n",
    "                      nn.Linear(64, 10),\n",
    "                      nn.LogSoftmax(dim=1))\n",
    "\n",
    "criterion = nn.NLLLoss()\n",
    "images, labels = next(iter(trainloader))\n",
    "images = images.view(images.shape[0], -1)\n",
    "\n",
    "logits = model(images)\n",
    "loss = criterion(logits, labels)"
   ]
  },
  {
   "cell_type": "code",
   "execution_count": 35,
   "id": "ecb694c9-bb51-4c9c-b030-7aba9d032f79",
   "metadata": {},
   "outputs": [
    {
     "name": "stdout",
     "output_type": "stream",
     "text": [
      "Before backward pass: \n",
      " None\n",
      "After backward pass: \n",
      " tensor([[-0.0023, -0.0023, -0.0023,  ..., -0.0023, -0.0023, -0.0023],\n",
      "        [ 0.0034,  0.0034,  0.0034,  ...,  0.0034,  0.0034,  0.0034],\n",
      "        [-0.0018, -0.0018, -0.0018,  ..., -0.0018, -0.0018, -0.0018],\n",
      "        ...,\n",
      "        [-0.0011, -0.0011, -0.0011,  ..., -0.0011, -0.0011, -0.0011],\n",
      "        [ 0.0009,  0.0009,  0.0009,  ...,  0.0009,  0.0009,  0.0009],\n",
      "        [-0.0063, -0.0063, -0.0063,  ..., -0.0063, -0.0063, -0.0063]])\n"
     ]
    }
   ],
   "source": [
    "print('Before backward pass: \\n', model[0].weight.grad)\n",
    "\n",
    "loss.backward()\n",
    "\n",
    "print('After backward pass: \\n', model[0].weight.grad)"
   ]
  },
  {
   "cell_type": "markdown",
   "id": "607d3fd5-d818-4d63-a355-af7458b1772f",
   "metadata": {},
   "source": [
    "## Training the Neural Network!\n",
    "- The last key here, is to select the optimizer that will be uldating the weights with gradient\n",
    "- There are some in the [`optim` package](https://pytorch.org/docs/stable/optim.html). \n",
    "- Let's try using the stochastic gradient descent (SGD) with `optim.SGD`"
   ]
  },
  {
   "cell_type": "code",
   "execution_count": 36,
   "id": "5aa22337-f1d8-46b8-9628-5675eaea8057",
   "metadata": {},
   "outputs": [],
   "source": [
    "# Optimizers require the parameters to optimize and a learning rate\n",
    "optimizer = optim.SGD(model.parameters(), lr=0.01)"
   ]
  },
  {
   "cell_type": "markdown",
   "id": "103cef6c-74da-450f-8647-9a2077bec083",
   "metadata": {},
   "source": [
    "### Training:\n",
    "\n",
    "* Forward \n",
    "* Use the output to compute the error (_loss_)\n",
    "* Backward with `loss.backward()` to calculate the gradients\n",
    "* Use the optimizer to update the weights\n",
    "\n",
    "> Let's train the network and print the changes in the gradients;\n",
    ">\n",
    "> `optimizer.zero_grad()` at each iteration (because they accumulate at each backward);\n",
    ">\n",
    "> Knowing that, we must zero the grads at each iteration to avoid further accumulation."
   ]
  },
  {
   "cell_type": "code",
   "execution_count": 37,
   "id": "e270a042-ad3f-4d03-9e8a-10f56a3b017b",
   "metadata": {},
   "outputs": [
    {
     "name": "stdout",
     "output_type": "stream",
     "text": [
      "\u001b[mInitial weights:\u001b[31m Parameter containing:\n",
      "tensor([[-0.0099, -0.0259, -0.0350,  ...,  0.0052,  0.0235,  0.0288],\n",
      "        [ 0.0228,  0.0031,  0.0300,  ..., -0.0120, -0.0298,  0.0330],\n",
      "        [-0.0099, -0.0341, -0.0133,  ..., -0.0290, -0.0070, -0.0302],\n",
      "        ...,\n",
      "        [ 0.0299, -0.0346,  0.0083,  ..., -0.0146, -0.0193,  0.0106],\n",
      "        [-0.0332,  0.0318,  0.0049,  ..., -0.0305, -0.0087, -0.0331],\n",
      "        [ 0.0146,  0.0258,  0.0168,  ..., -0.0334,  0.0040,  0.0342]],\n",
      "       requires_grad=True)\n",
      "\u001b[mGradient:\u001b[31m tensor([[ 0.0032,  0.0032,  0.0032,  ...,  0.0032,  0.0032,  0.0032],\n",
      "        [-0.0042, -0.0042, -0.0042,  ..., -0.0042, -0.0042, -0.0042],\n",
      "        [-0.0002, -0.0002, -0.0002,  ..., -0.0002, -0.0002, -0.0002],\n",
      "        ...,\n",
      "        [ 0.0010,  0.0010,  0.0010,  ...,  0.0010,  0.0010,  0.0010],\n",
      "        [-0.0023, -0.0023, -0.0023,  ..., -0.0023, -0.0023, -0.0023],\n",
      "        [ 0.0020,  0.0020,  0.0020,  ...,  0.0020,  0.0020,  0.0020]])\n"
     ]
    }
   ],
   "source": [
    "print('\\033[mInitial weights:\\033[31m', model[0].weight)\n",
    "\n",
    "images, labels = next(iter(trainloader))\n",
    "images.resize_(64, 784)\n",
    "\n",
    "# zero the accumulated grads\n",
    "optimizer.zero_grad()\n",
    "\n",
    "# Forward, backward, and update the weights\n",
    "output = model(images)\n",
    "loss = criterion(output, labels)\n",
    "loss.backward()\n",
    "print('\\033[mGradient:\\033[31m', model[0].weight.grad)"
   ]
  },
  {
   "cell_type": "code",
   "execution_count": 38,
   "id": "a1295b29-e36d-491a-ac0b-f0b660fbee9d",
   "metadata": {},
   "outputs": [
    {
     "name": "stdout",
     "output_type": "stream",
     "text": [
      "\u001b[mUpdated weights:\u001b[31m Parameter containing:\n",
      "tensor([[-0.0099, -0.0259, -0.0350,  ...,  0.0051,  0.0234,  0.0288],\n",
      "        [ 0.0228,  0.0032,  0.0300,  ..., -0.0120, -0.0298,  0.0331],\n",
      "        [-0.0099, -0.0341, -0.0133,  ..., -0.0290, -0.0070, -0.0302],\n",
      "        ...,\n",
      "        [ 0.0299, -0.0347,  0.0083,  ..., -0.0146, -0.0193,  0.0106],\n",
      "        [-0.0332,  0.0318,  0.0050,  ..., -0.0305, -0.0087, -0.0331],\n",
      "        [ 0.0146,  0.0257,  0.0168,  ..., -0.0334,  0.0040,  0.0341]],\n",
      "       requires_grad=True)\n"
     ]
    }
   ],
   "source": [
    "# Step that update the weights\n",
    "optimizer.step()\n",
    "print('\\033[mUpdated weights:\\033[31m', model[0].weight)"
   ]
  },
  {
   "cell_type": "markdown",
   "id": "4645ff9a-a837-4786-aaac-204627a43f3c",
   "metadata": {},
   "source": [
    "## Training: now it's for real!!!\n",
    "\n",
    "- EPOCH: is when we pass through all samples\n",
    "- Let's iterate through `trainloader` to use out training batches\n",
    "- For each batch the error is calculated and the backpropagation step update the weights\n"
   ]
  },
  {
   "cell_type": "code",
   "execution_count": 39,
   "id": "0bfc0329-5910-44a2-8abf-1f5f37d422c2",
   "metadata": {},
   "outputs": [
    {
     "name": "stdout",
     "output_type": "stream",
     "text": [
      "Training loss: 1.009742727983735\n",
      "Training loss: 0.38593429581983\n",
      "Training loss: 0.32734962540076995\n",
      "Training loss: 0.29461358466159815\n",
      "Training loss: 0.26883152753178247\n"
     ]
    }
   ],
   "source": [
    "## Sua solução vai aqui\n",
    "# defining the model\n",
    "model = nn.Sequential(nn.Linear(784, 128),\n",
    "                      nn.ReLU(),\n",
    "                      nn.Linear(128, 64),\n",
    "                      nn.ReLU(),\n",
    "                      nn.Linear(64, 10),\n",
    "                      nn.LogSoftmax(dim=1))\n",
    "# Criterion\n",
    "criterion = nn.NLLLoss()\n",
    "# Optimizers require the parameters to optimize and a learning rate\n",
    "optimizer = optim.SGD(model.parameters(), lr=0.01)\n",
    "\n",
    "\n",
    "# TODO: defina o modelo, o critério e o atualizador\n",
    "\n",
    "epochs = 5\n",
    "for e in range(epochs):\n",
    "    running_loss = 0\n",
    "    \n",
    "    for images, labels in trainloader:\n",
    "        # Flatten MNIST images into a 784 long vector\n",
    "        images = images.view(images.shape[0], -1)\n",
    "     \n",
    "        # zero the accumulated grads\n",
    "        optimizer.zero_grad()\n",
    "\n",
    "        # Forward, backward, and update the weights\n",
    "        output = model(images)\n",
    "        loss = criterion(output, labels)\n",
    "        loss.backward()\n",
    "        optimizer.step()\n",
    "        \n",
    "        running_loss += loss.item()\n",
    "    else:\n",
    "        print(f\"Training loss: {running_loss/len(trainloader)}\")"
   ]
  },
  {
   "cell_type": "code",
   "execution_count": 40,
   "id": "ad2cb91b-f4b1-4a21-9ca6-0512bf0ad245",
   "metadata": {},
   "outputs": [
    {
     "data": {
      "image/png": "[encoded data removed]",
      "text/plain": [
       "<Figure size 432x648 with 2 Axes>"
      ]
     },
     "metadata": {
      "image/png": {
       "height": 235,
       "width": 424
      },
      "needs_background": "light"
     },
     "output_type": "display_data"
    }
   ],
   "source": [
    "images, labels = next(iter(trainloader))\n",
    "\n",
    "img = images[0].view(1, 784)\n",
    "# gradient OFF\n",
    "with torch.no_grad():\n",
    "    logps = model(img)\n",
    "\n",
    "# We need the exp to see the real predictions\n",
    "ps = torch.exp(logps)\n",
    "view_classify(img.view(1, 28, 28), ps)"
   ]
  },
  {
   "cell_type": "markdown",
   "id": "b759e9fb-0eac-4ad1-9eef-67cb77f08af1",
   "metadata": {},
   "source": [
    "## GREAT! Our model works :)\n",
    "\n",
    "# Creating a Neutal Network model from scratch\n",
    "### 1) NeuralNetwork Class \n",
    "- inherits from the `nn.Module`\n",
    "- `__init__` defines the layers: input, 2 hidden and output\n",
    "- method `forward` receives x, flatten the tensor, passes the activation function (ReLU) for each layer, and the output layer is computed with `log_softmax`, passing the columns (dim=1).\n",
    "### 2) NeuralNetwork_reg Class\n",
    "- `__init__` defines the layers: input, 2 hidden and output; and defines the regularization `dropout` with probability of 0.2\n",
    "- method `forward` receives x, flatten the tensor, passes the activation function (ReLU) inside the `dropout` regularization function (which will deactivate 20% of the neurons at each iteration, to help balance the weights properlly) for each layer, and the output layer is computed as before, passing the `log_softmax` (dim=1).\n",
    "\n",
    "## Creating a function `model_pipeline` to evaluate different scenarios\n",
    "1) transformations: \n",
    "    1) `ToTensor()` \n",
    "    \n",
    "    2) `RandomHorizontalFlip`\n",
    "    \n",
    "     ![RandomHorizontalFlip](https://pytorch.org/vision/stable/_images/sphx_glr_plot_transforms_020.png)\n",
    "     \n",
    "    3) `RandomRotation` \n",
    "    \n",
    "     ![RandomRotation](https://pytorch.org/vision/stable/_images/sphx_glr_plot_transforms_009.png)\n",
    "     \n",
    "    4) `RandomPerspective`\n",
    "    \n",
    "     ![RandomPerspective](https://pytorch.org/vision/stable/_images/sphx_glr_plot_transforms_008.png)"
   ]
  },
  {
   "cell_type": "code",
   "execution_count": 63,
   "id": "ab43bf5c-0703-48dc-8372-49295cb26c42",
   "metadata": {},
   "outputs": [],
   "source": [
    "# NeuralNetwork class Inherit from nn.Module\n",
    "## --> without regularization\n",
    "\n",
    "class NeuralNetwork(nn.Module):\n",
    "    def __init__(self): \n",
    "        super().__init__()\n",
    "        # defining the layers and neurons\n",
    "        self.fc1 = nn.Linear(784, 256)\n",
    "        self.fc2 = nn.Linear(256, 128)\n",
    "        self.fc3 = nn.Linear(128, 64)\n",
    "        self.fc4 = nn.Linear(64, 10)\n",
    "        \n",
    "    def forward(self, x):\n",
    "        # flattening the tensor\n",
    "        x = x.view(x.shape[0], -1)\n",
    "        # forward step\n",
    "        x = F.relu(self.fc1(x))\n",
    "        x = F.relu(self.fc2(x))\n",
    "        x = F.relu(self.fc3(x))\n",
    "        x = F.log_softmax(self.fc4(x), dim=1)\n",
    "        \n",
    "        return x"
   ]
  },
  {
   "cell_type": "code",
   "execution_count": 64,
   "id": "e4810312-3337-4e33-8b58-4f7c8eb91c56",
   "metadata": {},
   "outputs": [],
   "source": [
    "## ---> With regularization: Dropout\n",
    "\n",
    "class NeuralNetwork_reg(nn.Module):\n",
    "    def __init__(self): \n",
    "        super().__init__()\n",
    "        self.fc1 = nn.Linear(784, 256)\n",
    "        self.fc2 = nn.Linear(256, 128)\n",
    "        self.fc3 = nn.Linear(128, 64)\n",
    "        self.fc4 = nn.Linear(64, 10)\n",
    "        self.dropout = nn.Dropout(p=0.2)\n",
    "        \n",
    "    def forward(self, x):\n",
    "        # flattening the tensor\n",
    "        x = x.view(x.shape[0], -1)\n",
    "        # forward step\n",
    "        x = self.dropout(F.relu(self.fc1(x)))\n",
    "        x = self.dropout(F.relu(self.fc2(x)))\n",
    "        x = self.dropout(F.relu(self.fc3(x)))\n",
    "        x = F.log_softmax(self.fc4(x), dim=1)\n",
    "        \n",
    "        return x"
   ]
  },
  {
   "cell_type": "code",
   "execution_count": 97,
   "id": "434f31a6-8f92-43f0-9375-48b37dd01ee7",
   "metadata": {},
   "outputs": [],
   "source": [
    "## ADDING a a new graph\n",
    "def view_classify(img, ps, train_losses, test_losses, version=\"MNIST\"):\n",
    "    ''' Function for viewing an image and it's predicted classes.\n",
    "    '''\n",
    "    ps = ps.data.numpy().squeeze()\n",
    "\n",
    "    fig, (ax1, ax2, ax3) = plt.subplots(figsize=(12,6), nrows=1, ncols=3)\n",
    "    ax1.imshow(img.resize_(1, 28, 28).numpy().squeeze())\n",
    "    ax1.axis('off')\n",
    "    ax2.barh(np.arange(10), ps)\n",
    "    ax2.set_aspect(0.1)\n",
    "    ax2.set_yticks(np.arange(10))\n",
    "    if version == \"MNIST\" or \"KMNIST\":\n",
    "        ax2.set_yticklabels(np.arange(10))\n",
    "    elif version == \"FashionMNIST\":\n",
    "        ax2.set_yticklabels(['T-shirt/top',\n",
    "                            'Trouser',\n",
    "                            'Pullover',\n",
    "                            'Dress',\n",
    "                            'Coat',\n",
    "                            'Sandal',\n",
    "                            'Shirt',\n",
    "                            'Sneaker',\n",
    "                            'Bag',\n",
    "                            'Ankle Boot'], size='small');\n",
    "    ax2.set_title('Class Probability')\n",
    "    ax2.set_xlim(0, 1.1)\n",
    "    \n",
    "    # Graph of train and test losses\n",
    "    ax3.plot(train_losses, label = 'Train Loss')\n",
    "    ax3.plot(test_losses, label = 'Test Loss')\n",
    "    ax3.legend()\n",
    "    \n",
    "    plt.tight_layout()"
   ]
  },
  {
   "cell_type": "code",
   "execution_count": 98,
   "id": "741df475-ea51-49cd-a819-bc13d34fad45",
   "metadata": {},
   "outputs": [],
   "source": [
    "def model_pipeline(dataset = 'KMNIST', horizontal_flip=False, flip_percentage=0.5,              # transformations\n",
    "                   random_rotation=False, rotation_degree=20, \n",
    "                   random_perspective=False, distortion_scale=0.6, \n",
    "                   validation_size=0.2, reg=False, loss = 'cross', optimizer = 'adam',   # model parameters\n",
    "                   batch_size=200, epochs = 5, lr_rate=0.002):                            \n",
    "    \n",
    "    \"\"\"This function builds and trains a neural network model.\n",
    "    ---> dataset: downloads the training and test sets dependind on the dataset passed as a string.\n",
    "         - options: 'KMNIST', 'MNIST', 'FashionMNIST'; (). \n",
    "    ---> Transforms:\n",
    "        1) horizontal_flip: True or False (default = False).\n",
    "        - flip_percentage: probability of the image being flipped (default = 0.5).\n",
    "        2) random_rotation: True or False (default = False).\n",
    "        - rotation_degree: degree that the image will rotate (default = 20).\n",
    "        3) random_perspective: True or False (default = False).\n",
    "        - distortion_scale: argument to control the degree of distortion and ranges from 0 to 1 (default = 0.6).\n",
    "   ---> Model, Loss and Optimizer:\n",
    "        4) validation_size: size of the train samples that will be used to validate the model (default = 0.2).\n",
    "        5) reg: True or False (default = False)| If the model will be defined with or without regularization.\n",
    "        6) Loss functions: passed as a string. Options: \"cross\", \"poiss\", \"gauss\", \"nll\".\n",
    "        7) Optimizer functions: passed as a string. Options: \"adam\", \"adamax\", \"asgd\".\n",
    "   ---> Other parameters:\n",
    "        8) batch_size: number of batches to pass into the dataloader (default = 200).\n",
    "        9) epochs: defining the number of epochs (default = 5).\n",
    "        10) lr_rate: the rate that the SGD will learn and reduce the loss function (default = 0.002).\n",
    "        \"\"\" \n",
    "    ### creating transform pipeline\n",
    "    if horizontal_flip:\n",
    "        transformations = transforms.Compose([transforms.RandomHorizontalFlip(flip_percentage)])\n",
    "    if random_rotation:\n",
    "        transformations = transforms.Compose([transforms.RandomRotation(rotation_degree)])\n",
    "    if random_perspective:\n",
    "        transformations = transforms.Compose([transforms.RandomPerspective(distortion_scale)])\n",
    "\n",
    "    transformations = transforms.Compose([transforms.ToTensor(),\n",
    "                                          transforms.Normalize((0.5,), (0.5,))])\n",
    "    \n",
    "    ### Downloading the training and test data dependind on the dataset variable passed as a string\n",
    "    if dataset == 'KMNIST':\n",
    "        train_dataset = datasets.KMNIST('./data', download=True, train=True, transform=transformations)\n",
    "        test_dataset = datasets.KMNIST('./data/', download=True, train=False, transform=transformations)\n",
    "    elif dataset == 'MNIST':\n",
    "        train_dataset = datasets.MNIST('./data', download=True, train=True, transform=transformations)\n",
    "        test_dataset = datasets.MNIST('./data/', download=True, train=False, transform=transformations)\n",
    "    elif dataset == 'FashionMNIST':\n",
    "        train_dataset = datasets.FashionMNIST('./data', download=True, train=True, transform=transformations)\n",
    "        test_dataset = datasets.FashionMNIST('./data/', download=True, train=False, transform=transformations)\n",
    "    \n",
    "    # Get the size of our train set\n",
    "    training_size = len(train_dataset)\n",
    "\n",
    "    # then, we create a list of indices from 0 to training size range\n",
    "    indices = list(range(training_size))\n",
    "\n",
    "    # Shuffling the indices\n",
    "    np.random.shuffle(indices)\n",
    "\n",
    "    # The shuffled index will split the validation and training datasets using numpy \"floor\" method:\n",
    "    index_split = int(np.floor(training_size * validation_size))  # floor of the scalar `x` is the largest integer\n",
    "\n",
    "    # Then, we get the training and validation set indices passing the index split \n",
    "    validation_indices, training_indices = indices[:index_split], indices[index_split:]\n",
    "\n",
    "    # Using SubsetRandomSampler we sample elements randomly from a list of indices\n",
    "    training_sample = SubsetRandomSampler(training_indices)\n",
    "    validation_sample = SubsetRandomSampler(validation_indices)\n",
    "   \n",
    "    ### creating the data loader, passing the sampler created above\n",
    "    train_loader = torch.utils.data.DataLoader(train_dataset, batch_size=batch_size, sampler=training_sample)\n",
    "    valid_loader = torch.utils.data.DataLoader(train_dataset, batch_size=batch_size, sampler=validation_sample)\n",
    "    test_loader = torch.utils.data.DataLoader(test_dataset, batch_size=batch_size)\n",
    "    \n",
    "    ### defining the model with or without regularization\n",
    "    if reg:       # if True the model will be instantiated with regularization (dropout)\n",
    "        model = NeuralNetwork_reg()\n",
    "    elif reg == False:         # if False, the model won't have regularization\n",
    "        model = NeuralNetwork()\n",
    "        \n",
    "    ### LOSS\n",
    "    if loss == 'cross':\n",
    "        criterion = nn.CrossEntropyLoss() \n",
    "    elif loss == 'poiss':\n",
    "        criterion = nn.PoissonNLLLoss()\n",
    "    elif loss == 'gauss':\n",
    "        criterion = nn.GaussianNLLLoss()\n",
    "    elif loss == 'nll':\n",
    "        criterion = nn.NLLLoss()\n",
    "    \n",
    "    ### OPTIMIZER\n",
    "    if optimizer == 'adam':    \n",
    "        optimizer = optim.Adam(model.parameters(), lr=lr_rate)\n",
    "    if optimizer == 'adamax': \n",
    "        optimizer = optim.Adamax(model.parameters(), lr=lr_rate)\n",
    "    if optimizer == 'asgd': \n",
    "        optimizer = optim.ASGD(model.parameters(), lr=lr_rate)\n",
    "    \n",
    "    ### Training the NN\n",
    "    train_losses, test_losses = [], []\n",
    "    for e in range(epochs):\n",
    "        running_loss = 0\n",
    "        for image, label in train_loader:\n",
    "            optimizer.zero_grad()\n",
    "            log_ps = model(image)\n",
    "            loss = criterion(log_ps, label)\n",
    "            loss.backward()\n",
    "            optimizer.step()\n",
    "            running_loss+=loss.item()\n",
    "        else:\n",
    "            test_loss = 0\n",
    "            accuracy = 0\n",
    "            with torch.no_grad():\n",
    "                model.eval()\n",
    "                for image, label in test_loader:         \n",
    "                    log_ps = model.forward(image)\n",
    "                    prob = torch.exp(log_ps)\n",
    "                    test_loss+= criterion(log_ps, label)\n",
    "                    k_prob, k_class = prob.topk(1, dim=1)\n",
    "                    equals = k_class == label.view(*k_class.shape)\n",
    "                    accuracy+= torch.mean(equals.type(torch.FloatTensor))\n",
    "            model.train()\n",
    "        train_losses.append(running_loss/len(train_loader))\n",
    "        test_losses.append(test_loss/len(test_loader))\n",
    "        print(\"Epoch: {}/{}...\".format(e+1, epochs),\n",
    "              \"Training Loss: {:.3f}...\".format(train_losses[-1]),\n",
    "              \"Test Loss: {:.3f}...\".format(test_losses[-1]),\n",
    "              \"Test Accuracy: {:.3f}\".format(accuracy/len(test_loader)))\n",
    "        \n",
    "    ### Showing the image and the probability barplot   \n",
    "    images, labels = next(iter(train_loader))\n",
    "\n",
    "    img = images[0].view(1, 784)\n",
    "    # gradient OFF\n",
    "    with torch.no_grad():\n",
    "        logps = model(img)\n",
    "\n",
    "    # We need the exp to see the real predictions\n",
    "    ps = torch.exp(logps)\n",
    "    view_classify(img.view(1, 28, 28), ps, train_losses, test_losses, version=dataset)\n",
    "    \n",
    "    return (accuracy/len(test_loader)), train_losses, test_losses"
   ]
  },
  {
   "cell_type": "code",
   "execution_count": 7,
   "id": "43b80969",
   "metadata": {},
   "outputs": [
    {
     "ename": "SyntaxError",
     "evalue": "invalid syntax (<ipython-input-7-10b07e1a150e>, line 6)",
     "output_type": "error",
     "traceback": [
      "\u001b[1;36m  File \u001b[1;32m\"<ipython-input-7-10b07e1a150e>\"\u001b[1;36m, line \u001b[1;32m6\u001b[0m\n\u001b[1;33m    train_dataset = datasets.f'{X}'('./data', download=True, train=True, transform=transformations)\u001b[0m\n\u001b[1;37m                             ^\u001b[0m\n\u001b[1;31mSyntaxError\u001b[0m\u001b[1;31m:\u001b[0m invalid syntax\n"
     ]
    }
   ],
   "source": [
    "def create_dataset(dataset='KMNIST'):\n",
    "#         ### Downloading the training and test data dependind on the dataset variable passed as a string\n",
    "#         if dataset == 'KMNIST':\n",
    "    if dataset=='KMNIST':\n",
    "        X = KMNIST\n",
    "    train_dataset = datasets.f'{X}'('./data', download=True, train=True, transform=transformations)\n",
    "    test_dataset = datasets.f'{X}'('./data/', download=True, train=False, transform=transformations)\n",
    "#         elif dataset == 'MNIST':\n",
    "#             train_dataset = datasets.MNIST('./data', download=True, train=True, transform=transformations)\n",
    "#             test_dataset = datasets.MNIST('./data/', download=True, train=False, transform=transformations)\n",
    "#         elif dataset == 'FashionMNIST':\n",
    "#             train_dataset = datasets.FashionMNIST('./data', download=True, train=True, transform=transformations)\n",
    "#             test_dataset = datasets.FashionMNIST('./data/', download=True, train=False, transform=transformations"
   ]
  },
  {
   "cell_type": "code",
   "execution_count": 6,
   "id": "6894a7aa",
   "metadata": {},
   "outputs": [
    {
     "ename": "AttributeError",
     "evalue": "module 'torchvision.datasets' has no attribute 'dataset'",
     "output_type": "error",
     "traceback": [
      "\u001b[1;31m---------------------------------------------------------------------------\u001b[0m",
      "\u001b[1;31mAttributeError\u001b[0m                            Traceback (most recent call last)",
      "\u001b[1;32m<ipython-input-6-e69a2dc70173>\u001b[0m in \u001b[0;36m<module>\u001b[1;34m\u001b[0m\n\u001b[1;32m----> 1\u001b[1;33m \u001b[0mcreate_dataset\u001b[0m\u001b[1;33m(\u001b[0m\u001b[1;33m)\u001b[0m\u001b[1;33m\u001b[0m\u001b[1;33m\u001b[0m\u001b[0m\n\u001b[0m",
      "\u001b[1;32m<ipython-input-5-86c21dab2b00>\u001b[0m in \u001b[0;36mcreate_dataset\u001b[1;34m(dataset)\u001b[0m\n\u001b[0;32m      2\u001b[0m \u001b[1;31m#         ### Downloading the training and test data dependind on the dataset variable passed as a string\u001b[0m\u001b[1;33m\u001b[0m\u001b[1;33m\u001b[0m\u001b[1;33m\u001b[0m\u001b[0m\n\u001b[0;32m      3\u001b[0m \u001b[1;31m#         if dataset == 'KMNIST':\u001b[0m\u001b[1;33m\u001b[0m\u001b[1;33m\u001b[0m\u001b[1;33m\u001b[0m\u001b[0m\n\u001b[1;32m----> 4\u001b[1;33m     \u001b[0mtrain_dataset\u001b[0m \u001b[1;33m=\u001b[0m \u001b[0mdatasets\u001b[0m\u001b[1;33m.\u001b[0m\u001b[0mdataset\u001b[0m\u001b[1;33m(\u001b[0m\u001b[1;34m'./data'\u001b[0m\u001b[1;33m,\u001b[0m \u001b[0mdownload\u001b[0m\u001b[1;33m=\u001b[0m\u001b[1;32mTrue\u001b[0m\u001b[1;33m,\u001b[0m \u001b[0mtrain\u001b[0m\u001b[1;33m=\u001b[0m\u001b[1;32mTrue\u001b[0m\u001b[1;33m,\u001b[0m \u001b[0mtransform\u001b[0m\u001b[1;33m=\u001b[0m\u001b[0mtransformations\u001b[0m\u001b[1;33m)\u001b[0m\u001b[1;33m\u001b[0m\u001b[1;33m\u001b[0m\u001b[0m\n\u001b[0m\u001b[0;32m      5\u001b[0m     \u001b[0mtest_dataset\u001b[0m \u001b[1;33m=\u001b[0m \u001b[0mdatasets\u001b[0m\u001b[1;33m.\u001b[0m\u001b[0mdataset\u001b[0m\u001b[1;33m(\u001b[0m\u001b[1;34m'./data/'\u001b[0m\u001b[1;33m,\u001b[0m \u001b[0mdownload\u001b[0m\u001b[1;33m=\u001b[0m\u001b[1;32mTrue\u001b[0m\u001b[1;33m,\u001b[0m \u001b[0mtrain\u001b[0m\u001b[1;33m=\u001b[0m\u001b[1;32mFalse\u001b[0m\u001b[1;33m,\u001b[0m \u001b[0mtransform\u001b[0m\u001b[1;33m=\u001b[0m\u001b[0mtransformations\u001b[0m\u001b[1;33m)\u001b[0m\u001b[1;33m\u001b[0m\u001b[1;33m\u001b[0m\u001b[0m\n\u001b[0;32m      6\u001b[0m \u001b[1;31m#         elif dataset == 'MNIST':\u001b[0m\u001b[1;33m\u001b[0m\u001b[1;33m\u001b[0m\u001b[1;33m\u001b[0m\u001b[0m\n",
      "\u001b[1;31mAttributeError\u001b[0m: module 'torchvision.datasets' has no attribute 'dataset'"
     ]
    }
   ],
   "source": [
    "create_dataset()"
   ]
  },
  {
   "cell_type": "markdown",
   "id": "bcbf555d-6e6c-46d5-8fd1-b64015d346e5",
   "metadata": {},
   "source": [
    "## Testing the classes and the function with KMNIST:"
   ]
  },
  {
   "cell_type": "code",
   "execution_count": 68,
   "id": "36cf0608-9839-4bfe-a029-90ec03deae0c",
   "metadata": {},
   "outputs": [
    {
     "name": "stdout",
     "output_type": "stream",
     "text": [
      "Epoch: 1/10... Training Loss: 0.694... Test Loss: 0.759... Test Accuracy: 0.755\n",
      "Epoch: 2/10... Training Loss: 0.332... Test Loss: 0.617... Test Accuracy: 0.810\n",
      "Epoch: 3/10... Training Loss: 0.243... Test Loss: 0.517... Test Accuracy: 0.840\n",
      "Epoch: 4/10... Training Loss: 0.185... Test Loss: 0.463... Test Accuracy: 0.863\n",
      "Epoch: 5/10... Training Loss: 0.148... Test Loss: 0.434... Test Accuracy: 0.874\n",
      "Epoch: 6/10... Training Loss: 0.120... Test Loss: 0.438... Test Accuracy: 0.882\n",
      "Epoch: 7/10... Training Loss: 0.097... Test Loss: 0.420... Test Accuracy: 0.886\n",
      "Epoch: 8/10... Training Loss: 0.081... Test Loss: 0.448... Test Accuracy: 0.882\n",
      "Epoch: 9/10... Training Loss: 0.065... Test Loss: 0.449... Test Accuracy: 0.887\n",
      "Epoch: 10/10... Training Loss: 0.055... Test Loss: 0.489... Test Accuracy: 0.876\n"
     ]
    },
    {
     "data": {
      "image/png": "[encoded data removed]",
      "text/plain": [
       "<Figure size 432x648 with 2 Axes>"
      ]
     },
     "metadata": {
      "image/png": {
       "height": 235,
       "width": 424
      },
      "needs_background": "light"
     },
     "output_type": "display_data"
    }
   ],
   "source": [
    "acc, train_loss, test_loss = model_pipeline(random_perspective=True, distortion_scale=0.8, optimizer='adamax', epochs=10, lr_rate=0.002)"
   ]
  },
  {
   "cell_type": "markdown",
   "id": "17267320-b468-4ae3-9fd0-0db0f5e7a07e",
   "metadata": {},
   "source": [
    "## Testing the classes and the function with MNIST:"
   ]
  },
  {
   "cell_type": "code",
   "execution_count": 99,
   "id": "2ec3b69e-5206-4136-881a-b10c1f302264",
   "metadata": {},
   "outputs": [
    {
     "name": "stdout",
     "output_type": "stream",
     "text": [
      "Epoch: 1/5... Training Loss: 0.618... Test Loss: 0.489... Test Accuracy: 0.820\n",
      "Epoch: 2/5... Training Loss: 0.424... Test Loss: 0.458... Test Accuracy: 0.835\n",
      "Epoch: 3/5... Training Loss: 0.381... Test Loss: 0.411... Test Accuracy: 0.850\n",
      "Epoch: 4/5... Training Loss: 0.349... Test Loss: 0.386... Test Accuracy: 0.858\n",
      "Epoch: 5/5... Training Loss: 0.329... Test Loss: 0.366... Test Accuracy: 0.867\n"
     ]
    },
    {
     "data": {
      "image/png": "[encoded data removed]",
      "text/plain": [
       "<Figure size 864x432 with 3 Axes>"
      ]
     },
     "metadata": {
      "image/png": {
       "height": 424,
       "width": 856
      },
      "needs_background": "light"
     },
     "output_type": "display_data"
    }
   ],
   "source": [
    "acc, train_loss, test_loss = model_pipeline(dataset='FashionMNIST', random_perspective=True, distortion_scale=0.8, optimizer='adamax')"
   ]
  },
  {
   "cell_type": "code",
   "execution_count": null,
   "id": "9b8c77b0-1935-4531-8748-0ed6de961fe7",
   "metadata": {},
   "outputs": [],
   "source": [
    "acc, train_loss, test_loss = model_pipeline(dataset='FashionMNIST', random_perspective=True, distortion_scale=0.8, optimizer='adamax', epochs=10, lr_rate=0.002)"
   ]
  },
  {
   "cell_type": "code",
   "execution_count": null,
   "id": "a3c223b1-050a-4fec-af86-529774fb8234",
   "metadata": {},
   "outputs": [],
   "source": []
  }
 ],
 "metadata": {
  "kernelspec": {
   "display_name": "Python 3",
   "language": "python",
   "name": "python3"
  },
  "language_info": {
   "codemirror_mode": {
    "name": "ipython",
    "version": 3
   },
   "file_extension": ".py",
   "mimetype": "text/x-python",
   "name": "python",
   "nbconvert_exporter": "python",
   "pygments_lexer": "ipython3",
   "version": "3.9.6"
  }
 },
 "nbformat": 4,
 "nbformat_minor": 5
}
